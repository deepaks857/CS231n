{
 "cells": [
  {
   "cell_type": "markdown",
   "metadata": {},
   "source": [
    "# Softmax exercise\n",
    "\n",
    "*Complete and hand in this completed worksheet (including its outputs and any supporting code outside of the worksheet) with your assignment submission. For more details see the [assignments page](http://vision.stanford.edu/teaching/cs231n/assignments.html) on the course website.*\n",
    "\n",
    "This exercise is analogous to the SVM exercise. You will:\n",
    "\n",
    "- implement a fully-vectorized **loss function** for the Softmax classifier\n",
    "- implement the fully-vectorized expression for its **analytic gradient**\n",
    "- **check your implementation** with numerical gradient\n",
    "- use a validation set to **tune the learning rate and regularization** strength\n",
    "- **optimize** the loss function with **SGD**\n",
    "- **visualize** the final learned weights\n"
   ]
  },
  {
   "cell_type": "code",
   "execution_count": 1,
   "metadata": {},
   "outputs": [],
   "source": [
    "import random\n",
    "import numpy as np\n",
    "from cs231n.data_utils import load_CIFAR10\n",
    "\n",
    "import matplotlib\n",
    "matplotlib.use(\"agg\")\n",
    "import matplotlib.pyplot as plt\n",
    "\n",
    "from __future__ import print_function\n",
    "\n",
    "%matplotlib inline\n",
    "plt.rcParams['figure.figsize'] = (10.0, 8.0) # set default size of plots\n",
    "plt.rcParams['image.interpolation'] = 'nearest'\n",
    "plt.rcParams['image.cmap'] = 'gray'\n",
    "\n",
    "# for auto-reloading extenrnal modules\n",
    "# see http://stackoverflow.com/questions/1907993/autoreload-of-modules-in-ipython\n",
    "%load_ext autoreload\n",
    "%autoreload 2"
   ]
  },
  {
   "cell_type": "code",
   "execution_count": 2,
   "metadata": {},
   "outputs": [
    {
     "name": "stdout",
     "output_type": "stream",
     "text": [
      "Train data shape:  (49000, 3073)\n",
      "Train labels shape:  (49000,)\n",
      "Validation data shape:  (1000, 3073)\n",
      "Validation labels shape:  (1000,)\n",
      "Test data shape:  (1000, 3073)\n",
      "Test labels shape:  (1000,)\n",
      "dev data shape:  (500, 3073)\n",
      "dev labels shape:  (500,)\n"
     ]
    }
   ],
   "source": [
    "def get_CIFAR10_data(num_training=49000, num_validation=1000, num_test=1000, num_dev=500):\n",
    "    \"\"\"\n",
    "    Load the CIFAR-10 dataset from disk and perform preprocessing to prepare\n",
    "    it for the linear classifier. These are the same steps as we used for the\n",
    "    SVM, but condensed to a single function.  \n",
    "    \"\"\"\n",
    "    # Load the raw CIFAR-10 data\n",
    "    cifar10_dir = 'cs231n/datasets/cifar-10-batches-py'\n",
    "    \n",
    "    X_train, y_train, X_test, y_test = load_CIFAR10(cifar10_dir)\n",
    "    \n",
    "    # subsample the data\n",
    "    mask = list(range(num_training, num_training + num_validation))\n",
    "    X_val = X_train[mask]\n",
    "    y_val = y_train[mask]\n",
    "    mask = list(range(num_training))\n",
    "    X_train = X_train[mask]\n",
    "    y_train = y_train[mask]\n",
    "    mask = list(range(num_test))\n",
    "    X_test = X_test[mask]\n",
    "    y_test = y_test[mask]\n",
    "    mask = np.random.choice(num_training, num_dev, replace=False)\n",
    "    X_dev = X_train[mask]\n",
    "    y_dev = y_train[mask]\n",
    "    \n",
    "    # Preprocessing: reshape the image data into rows\n",
    "    X_train = np.reshape(X_train, (X_train.shape[0], -1))\n",
    "    X_val = np.reshape(X_val, (X_val.shape[0], -1))\n",
    "    X_test = np.reshape(X_test, (X_test.shape[0], -1))\n",
    "    X_dev = np.reshape(X_dev, (X_dev.shape[0], -1))\n",
    "    \n",
    "    # Normalize the data: subtract the mean image\n",
    "    mean_image = np.mean(X_train, axis = 0)\n",
    "    X_train -= mean_image\n",
    "    X_val -= mean_image\n",
    "    X_test -= mean_image\n",
    "    X_dev -= mean_image\n",
    "    \n",
    "    # add bias dimension and transform into columns\n",
    "    X_train = np.hstack([X_train, np.ones((X_train.shape[0], 1))])\n",
    "    X_val = np.hstack([X_val, np.ones((X_val.shape[0], 1))])\n",
    "    X_test = np.hstack([X_test, np.ones((X_test.shape[0], 1))])\n",
    "    X_dev = np.hstack([X_dev, np.ones((X_dev.shape[0], 1))])\n",
    "    \n",
    "    return X_train, y_train, X_val, y_val, X_test, y_test, X_dev, y_dev\n",
    "\n",
    "\n",
    "# Cleaning up variables to prevent loading data multiple times (which may cause memory issue)\n",
    "try:\n",
    "   del X_train, y_train\n",
    "   del X_test, y_test\n",
    "   print('Clear previously loaded data.')\n",
    "except:\n",
    "   pass\n",
    "\n",
    "# Invoke the above function to get our data.\n",
    "X_train, y_train, X_val, y_val, X_test, y_test, X_dev, y_dev = get_CIFAR10_data()\n",
    "print('Train data shape: ', X_train.shape)\n",
    "print('Train labels shape: ', y_train.shape)\n",
    "print('Validation data shape: ', X_val.shape)\n",
    "print('Validation labels shape: ', y_val.shape)\n",
    "print('Test data shape: ', X_test.shape)\n",
    "print('Test labels shape: ', y_test.shape)\n",
    "print('dev data shape: ', X_dev.shape)\n",
    "print('dev labels shape: ', y_dev.shape)"
   ]
  },
  {
   "cell_type": "markdown",
   "metadata": {},
   "source": [
    "## Softmax Classifier\n",
    "\n",
    "Your code for this section will all be written inside **cs231n/classifiers/softmax.py**. \n"
   ]
  },
  {
   "cell_type": "code",
   "execution_count": 4,
   "metadata": {},
   "outputs": [
    {
     "name": "stdout",
     "output_type": "stream",
     "text": [
      "loss: 2.389540\n",
      "sanity check: 2.302585\n"
     ]
    }
   ],
   "source": [
    "# First implement the naive softmax loss function with nested loops.\n",
    "# Open the file cs231n/classifiers/softmax.py and implement the\n",
    "# softmax_loss_naive function.\n",
    "\n",
    "from cs231n.classifiers.softmax import softmax_loss_naive\n",
    "import time\n",
    "\n",
    "# Generate a random softmax weight matrix and use it to compute the loss.\n",
    "W = np.random.randn(3073, 10) * 0.0001\n",
    "loss, grad = softmax_loss_naive(W, X_dev, y_dev, 0.0)\n",
    "\n",
    "# As a rough sanity check, our loss should be something close to -log(0.1).\n",
    "print('loss: %f' % loss)\n",
    "print('sanity check: %f' % (-np.log(0.1)))"
   ]
  },
  {
   "cell_type": "markdown",
   "metadata": {},
   "source": [
    "## Inline Question 1:\n",
    "Why do we expect our loss to be close to -log(0.1)? Explain briefly.**\n",
    "\n",
    "**Your answer:** Softmax is negative log loss of the logit. The logit we expect is 0.1 - random classification accuracy for 10 classes of CIFAR10 dataset.\n"
   ]
  },
  {
   "cell_type": "code",
   "execution_count": 5,
   "metadata": {},
   "outputs": [
    {
     "name": "stdout",
     "output_type": "stream",
     "text": [
      "numerical: -0.212372 analytic: -0.212373, relative error: 3.460257e-07\n",
      "numerical: 2.693283 analytic: 2.693283, relative error: 5.731449e-09\n",
      "numerical: -0.682626 analytic: -0.682626, relative error: 1.004699e-08\n",
      "numerical: -0.811058 analytic: -0.811058, relative error: 2.015220e-08\n",
      "numerical: 0.730148 analytic: 0.730148, relative error: 1.934354e-08\n",
      "numerical: 2.098350 analytic: 2.098350, relative error: 1.241102e-08\n",
      "numerical: 1.198285 analytic: 1.198285, relative error: 2.830432e-08\n",
      "numerical: -0.288611 analytic: -0.288611, relative error: 7.456040e-09\n",
      "numerical: 0.229050 analytic: 0.229050, relative error: 4.792390e-08\n",
      "numerical: -0.638061 analytic: -0.638061, relative error: 8.808231e-08\n",
      "numerical: -1.385149 analytic: -1.385149, relative error: 2.271750e-08\n",
      "numerical: -0.344025 analytic: -0.344025, relative error: 2.896260e-08\n",
      "numerical: 0.127264 analytic: 0.127264, relative error: 1.239451e-07\n",
      "numerical: 2.944128 analytic: 2.944128, relative error: 3.165719e-08\n",
      "numerical: 1.083404 analytic: 1.083404, relative error: 4.791279e-08\n",
      "numerical: -4.807552 analytic: -4.807552, relative error: 8.353839e-09\n",
      "numerical: 1.369050 analytic: 1.369050, relative error: 6.882994e-08\n",
      "numerical: 2.072441 analytic: 2.072440, relative error: 3.939994e-08\n",
      "numerical: 0.027655 analytic: 0.027655, relative error: 1.113235e-07\n",
      "numerical: 0.340582 analytic: 0.340582, relative error: 2.202653e-08\n"
     ]
    }
   ],
   "source": [
    "# Complete the implementation of softmax_loss_naive and implement a (naive)\n",
    "# version of the gradient that uses nested loops.\n",
    "loss, grad = softmax_loss_naive(W, X_dev, y_dev, 0.0)\n",
    "\n",
    "# As we did for the SVM, use numeric gradient checking as a debugging tool.\n",
    "# The numeric gradient should be close to the analytic gradient.\n",
    "from cs231n.gradient_check import grad_check_sparse\n",
    "f = lambda w: softmax_loss_naive(w, X_dev, y_dev, 0.0)[0]\n",
    "grad_numerical = grad_check_sparse(f, W, grad, 10)\n",
    "\n",
    "# similar to SVM case, do another gradient check with regularization\n",
    "loss, grad = softmax_loss_naive(W, X_dev, y_dev, 5e1)\n",
    "f = lambda w: softmax_loss_naive(w, X_dev, y_dev, 5e1)[0]\n",
    "grad_numerical = grad_check_sparse(f, W, grad, 10)"
   ]
  },
  {
   "cell_type": "code",
   "execution_count": 6,
   "metadata": {},
   "outputs": [
    {
     "name": "stdout",
     "output_type": "stream",
     "text": [
      "naive loss: 2.389540e+00 computed in 0.099228s\n",
      "vectorized loss: 2.389540e+00 computed in 0.079432s\n",
      "Loss difference: 0.000000\n",
      "Gradient difference: 0.000000\n"
     ]
    }
   ],
   "source": [
    "# Now that we have a naive implementation of the softmax loss function and its gradient,\n",
    "# implement a vectorized version in softmax_loss_vectorized.\n",
    "# The two versions should compute the same results, but the vectorized version should be\n",
    "# much faster.\n",
    "tic = time.time()\n",
    "loss_naive, grad_naive = softmax_loss_naive(W, X_dev, y_dev, 0.000005)\n",
    "toc = time.time()\n",
    "print('naive loss: %e computed in %fs' % (loss_naive, toc - tic))\n",
    "\n",
    "from cs231n.classifiers.softmax import softmax_loss_vectorized\n",
    "tic = time.time()\n",
    "loss_vectorized, grad_vectorized = softmax_loss_vectorized(W, X_dev, y_dev, 0.000005)\n",
    "toc = time.time()\n",
    "print('vectorized loss: %e computed in %fs' % (loss_vectorized, toc - tic))\n",
    "\n",
    "# As we did for the SVM, we use the Frobenius norm to compare the two versions\n",
    "# of the gradient.\n",
    "grad_difference = np.linalg.norm(grad_naive - grad_vectorized, ord='fro')\n",
    "print('Loss difference: %f' % np.abs(loss_naive - loss_vectorized))\n",
    "print('Gradient difference: %f' % grad_difference)"
   ]
  },
  {
   "cell_type": "code",
   "execution_count": 10,
   "metadata": {},
   "outputs": [
    {
     "name": "stdout",
     "output_type": "stream",
     "text": [
      "iteration  1  done\n",
      "iteration  1  done\n",
      "iteration  1  done\n",
      "iteration  1  done\n",
      "iteration  1  done\n",
      "iteration  2  done\n",
      "iteration  2  done\n",
      "iteration  2  done\n",
      "iteration  2  done\n",
      "iteration  2  done\n",
      "iteration  3  done\n",
      "iteration  3  done\n",
      "iteration  3  done\n",
      "iteration  3  done\n",
      "iteration  3  done\n",
      "iteration  4  done\n",
      "iteration  4  done\n",
      "iteration  4  done\n",
      "iteration "
     ]
    },
    {
     "name": "stderr",
     "output_type": "stream",
     "text": [
      "/home/deepak/Documents/workspace/spring1718assignment1/cs231n/classifiers/softmax.py:84: RuntimeWarning: overflow encountered in double_scalars\n",
      "  loss += 0.5* reg * np.sum(W*W)\n",
      "/home/deepak/Documents/workspace/spring1718assignment1/cs231n/classifiers/softmax.py:84: RuntimeWarning: overflow encountered in multiply\n",
      "  loss += 0.5* reg * np.sum(W*W)\n",
      "/home/deepak/Documents/workspace/spring1718assignment1/cs231n/classifiers/softmax.py:85: RuntimeWarning: overflow encountered in multiply\n",
      "  dW += reg*(W)\n"
     ]
    },
    {
     "name": "stdout",
     "output_type": "stream",
     "text": [
      " 4  done\n",
      "iteration  4  done\n",
      "iteration  5  done\n",
      "iteration  5  done\n",
      "iteration  5  done\n",
      "iteration  5  done\n",
      "iteration  5  done\n",
      "iteration  6  done\n",
      "iteration  6  done\n",
      "iteration  6  done\n",
      "iteration  6  done\n",
      "iteration  6  done\n",
      "iteration  7  done\n",
      "iteration "
     ]
    },
    {
     "name": "stderr",
     "output_type": "stream",
     "text": [
      "/home/deepak/Documents/workspace/spring1718assignment1/cs231n/classifiers/softmax.py:72: RuntimeWarning: overflow encountered in subtract\n",
      "  scores -= np.amax(scores, axis=1)[:, None]\n",
      "/home/deepak/Documents/workspace/spring1718assignment1/cs231n/classifiers/softmax.py:72: RuntimeWarning: invalid value encountered in subtract\n",
      "  scores -= np.amax(scores, axis=1)[:, None]\n",
      "/home/deepak/Documents/workspace/spring1718assignment1/cs231n/classifiers/linear_classifier.py:70: RuntimeWarning: overflow encountered in multiply\n",
      "  self.W += -learning_rate*grad\n"
     ]
    },
    {
     "name": "stdout",
     "output_type": "stream",
     "text": [
      " 7  done\n",
      "iteration  7  done\n",
      "iteration  7  done\n",
      "iteration  7  done\n",
      "lr 1.000000e-15 reg 1.000000e+00 train accuracy: 0.099388 val accuracy: 0.107000\n",
      "lr 1.000000e-15 reg 1.000000e+03 train accuracy: 0.091061 val accuracy: 0.092000\n",
      "lr 1.000000e-15 reg 1.000000e+06 train accuracy: 0.084143 val accuracy: 0.087000\n",
      "lr 1.000000e-15 reg 1.000000e+09 train accuracy: 0.084184 val accuracy: 0.074000\n",
      "lr 1.000000e-15 reg 1.000000e+12 train accuracy: 0.088755 val accuracy: 0.077000\n",
      "lr 1.000000e-12 reg 1.000000e+00 train accuracy: 0.098347 val accuracy: 0.091000\n",
      "lr 1.000000e-12 reg 1.000000e+03 train accuracy: 0.117796 val accuracy: 0.115000\n",
      "lr 1.000000e-12 reg 1.000000e+06 train accuracy: 0.088388 val accuracy: 0.083000\n",
      "lr 1.000000e-12 reg 1.000000e+09 train accuracy: 0.112857 val accuracy: 0.121000\n",
      "lr 1.000000e-12 reg 1.000000e+12 train accuracy: 0.237776 val accuracy: 0.265000\n",
      "lr 1.000000e-09 reg 1.000000e+00 train accuracy: 0.086980 val accuracy: 0.077000\n",
      "lr 1.000000e-09 reg 1.000000e+03 train accuracy: 0.101571 val accuracy: 0.099000\n",
      "lr 1.000000e-09 reg 1.000000e+06 train accuracy: 0.093082 val accuracy: 0.103000\n",
      "lr 1.000000e-09 reg 1.000000e+09 train accuracy: 0.194571 val accuracy: 0.224000\n",
      "lr 1.000000e-09 reg 1.000000e+12 train accuracy: 0.106857 val accuracy: 0.101000\n",
      "lr 1.000000e-06 reg 1.000000e+00 train accuracy: 0.200959 val accuracy: 0.281000\n",
      "lr 1.000000e-06 reg 1.000000e+03 train accuracy: 0.189102 val accuracy: 0.256000\n",
      "lr 1.000000e-06 reg 1.000000e+06 train accuracy: 0.201755 val accuracy: 0.260000\n",
      "lr 1.000000e-06 reg 1.000000e+09 train accuracy: 0.100796 val accuracy: 0.116000\n",
      "lr 1.000000e-06 reg 1.000000e+12 train accuracy: 0.102673 val accuracy: 0.087000\n",
      "lr 1.000000e-03 reg 1.000000e+00 train accuracy: 0.242163 val accuracy: 0.389000\n",
      "lr 1.000000e-03 reg 1.000000e+03 train accuracy: 0.117510 val accuracy: 0.119000\n",
      "lr 1.000000e-03 reg 1.000000e+06 train accuracy: 0.127163 val accuracy: 0.134000\n",
      "lr 1.000000e-03 reg 1.000000e+09 train accuracy: 0.099857 val accuracy: 0.087000\n",
      "lr 1.000000e-03 reg 1.000000e+12 train accuracy: 0.100265 val accuracy: 0.087000\n",
      "lr 1.000000e+00 reg 1.000000e+00 train accuracy: 0.117449 val accuracy: 0.106000\n",
      "lr 1.000000e+00 reg 1.000000e+03 train accuracy: 0.060122 val accuracy: 0.064000\n",
      "lr 1.000000e+00 reg 1.000000e+06 train accuracy: 0.075082 val accuracy: 0.087000\n",
      "lr 1.000000e+00 reg 1.000000e+09 train accuracy: 0.100265 val accuracy: 0.087000\n",
      "lr 1.000000e+00 reg 1.000000e+12 train accuracy: 0.100265 val accuracy: 0.087000\n",
      "lr 1.000000e+03 reg 1.000000e+00 train accuracy: 0.048694 val accuracy: 0.056000\n",
      "lr 1.000000e+03 reg 1.000000e+03 train accuracy: 0.048408 val accuracy: 0.087000\n",
      "lr 1.000000e+03 reg 1.000000e+06 train accuracy: 0.100265 val accuracy: 0.087000\n",
      "lr 1.000000e+03 reg 1.000000e+09 train accuracy: 0.100265 val accuracy: 0.087000\n",
      "lr 1.000000e+03 reg 1.000000e+12 train accuracy: 0.100265 val accuracy: 0.087000\n",
      "best validation accuracy achieved during cross-validation: 0.389000\n"
     ]
    }
   ],
   "source": [
    "# Use the validation set to tune hyperparameters (regularization strength and\n",
    "# learning rate). You should experiment with different ranges for the learning\n",
    "# rates and regularization strengths; if you are careful you should be able to\n",
    "# get a classification accuracy of over 0.35 on the validation set.\n",
    "from cs231n.classifiers import Softmax\n",
    "results = {}\n",
    "best_val = -1\n",
    "best_softmax = None\n",
    "learning_rates = [1e-15, 1e-12, 1e-9, 1e-6, 1e-3, 1e0, 1e3]\n",
    "regularization_strengths = [1e0, 1e3, 1e6, 1e9, 1e12]\n",
    "\n",
    "################################################################################\n",
    "# TODO:                                                                        #\n",
    "# Use the validation set to set the learning rate and regularization strength. #\n",
    "# This should be identical to the validation that you did for the SVM; save    #\n",
    "# the best trained softmax classifer in best_softmax.                          #\n",
    "################################################################################\n",
    "for i in range(len(learning_rates)):\n",
    "    for j in range(len(regularization_strengths)):\n",
    "        softmax1 = Softmax()\n",
    "        loss_history_train = softmax1.train(X_train, y_train, learning_rates[i], regularization_strengths[j],\n",
    "                                     num_iters=50, batch_size=200, verbose=False)\n",
    "        y_pred_train = softmax1.predict(X_train)\n",
    "        accuracy_train = np.sum(y_pred_train == y_train) / y_train.shape[0]\n",
    "        \n",
    "        loss_history_val = softmax1.train(X_val, y_val, learning_rates[i], regularization_strengths[j],\n",
    "                                     num_iters=50, batch_size=200, verbose=False)\n",
    "        y_pred_val = softmax1.predict(X_val)\n",
    "        accuracy_val = np.sum(y_pred_val == y_val) / y_val.shape[0]\n",
    "        \n",
    "        if accuracy_val > best_val:\n",
    "            best_val = accuracy_val\n",
    "            best_softmax = softmax1\n",
    "        results[(learning_rates[i], regularization_strengths[j])] = (accuracy_train, accuracy_val)\n",
    "        \n",
    "        print(\"iteration \",i+1,\" done\")\n",
    "################################################################################\n",
    "#                              END OF YOUR CODE                                #\n",
    "################################################################################\n",
    "    \n",
    "# Print out results.\n",
    "for lr, reg in sorted(results):\n",
    "    train_accuracy, val_accuracy = results[(lr, reg)]\n",
    "    print('lr %e reg %e train accuracy: %f val accuracy: %f' % (\n",
    "                lr, reg, train_accuracy, val_accuracy))\n",
    "    \n",
    "print('best validation accuracy achieved during cross-validation: %f' % best_val)"
   ]
  },
  {
   "cell_type": "code",
   "execution_count": 13,
   "metadata": {},
   "outputs": [
    {
     "name": "stdout",
     "output_type": "stream",
     "text": [
      "softmax on raw pixels final test set accuracy: 0.199000\n"
     ]
    }
   ],
   "source": [
    "# evaluate on test set\n",
    "# Evaluate the best softmax on test set\n",
    "y_test_pred = best_softmax.predict(X_test)\n",
    "test_accuracy = np.mean(y_test == y_test_pred)\n",
    "print('softmax on raw pixels final test set accuracy: %f' % (test_accuracy, ))"
   ]
  },
  {
   "cell_type": "markdown",
   "metadata": {},
   "source": [
    "**Inline Question** - *True or False*\n",
    "\n",
    "It's possible to add a new datapoint to a training set that would leave the SVM loss unchanged, but this is not the case with the Softmax classifier loss.\n",
    "\n",
    "*Your answer*:\n",
    "\n",
    "*Your explanation*:"
   ]
  },
  {
   "cell_type": "code",
   "execution_count": 12,
   "metadata": {},
   "outputs": [
    {
     "data": {
      "image/png": "[encoded data removed]",
      "text/plain": [
       "<matplotlib.figure.Figure at 0x7f7857cdb748>"
      ]
     },
     "metadata": {},
     "output_type": "display_data"
    }
   ],
   "source": [
    "# Visualize the learned weights for each class\n",
    "w = best_softmax.W[:-1,:] # strip out the bias\n",
    "w = w.reshape(32, 32, 3, 10)\n",
    "\n",
    "w_min, w_max = np.min(w), np.max(w)\n",
    "\n",
    "classes = ['plane', 'car', 'bird', 'cat', 'deer', 'dog', 'frog', 'horse', 'ship', 'truck']\n",
    "for i in range(10):\n",
    "    plt.subplot(2, 5, i + 1)\n",
    "    \n",
    "    # Rescale the weights to be between 0 and 255\n",
    "    wimg = 255.0 * (w[:, :, :, i].squeeze() - w_min) / (w_max - w_min)\n",
    "    plt.imshow(wimg.astype('uint8'))\n",
    "    plt.axis('off')\n",
    "    plt.title(classes[i])"
   ]
  },
  {
   "cell_type": "code",
   "execution_count": null,
   "metadata": {},
   "outputs": [],
   "source": []
  }
 ],
 "metadata": {
  "kernelspec": {
   "display_name": "Python 3",
   "language": "python",
   "name": "python3"
  },
  "language_info": {
   "codemirror_mode": {
    "name": "ipython",
    "version": 3
   },
   "file_extension": ".py",
   "mimetype": "text/x-python",
   "name": "python",
   "nbconvert_exporter": "python",
   "pygments_lexer": "ipython3",
   "version": "3.6.8"
  }
 },
 "nbformat": 4,
 "nbformat_minor": 2
}
