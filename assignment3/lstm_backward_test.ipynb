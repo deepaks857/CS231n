{
 "cells": [
  {
   "cell_type": "code",
   "execution_count": 3,
   "metadata": {},
   "outputs": [
    {
     "name": "stdout",
     "output_type": "stream",
     "text": [
      "The autoreload extension is already loaded. To reload it, use:\n",
      "  %reload_ext autoreload\n"
     ]
    },
    {
     "name": "stderr",
     "output_type": "stream",
     "text": [
      "/home/deepak/.local/lib/python3.6/site-packages/matplotlib/__init__.py:1401: UserWarning:  This call to matplotlib.use() has no effect\n",
      "because the backend has already been chosen;\n",
      "matplotlib.use() must be called *before* pylab, matplotlib.pyplot,\n",
      "or matplotlib.backends is imported for the first time.\n",
      "\n",
      "  warnings.warn(_use_error_msg)\n"
     ]
    }
   ],
   "source": [
    "# As usual, a bit of setup\n",
    "import time, os, json\n",
    "import numpy as np\n",
    "import matplotlib\n",
    "matplotlib.use('agg')\n",
    "import matplotlib.pyplot as plt\n",
    "\n",
    "\n",
    "from cs231n.gradient_check import eval_numerical_gradient, eval_numerical_gradient_array\n",
    "from cs231n.temp import *\n",
    "from cs231n.captioning_solver import CaptioningSolver\n",
    "from cs231n.classifiers.rnn import CaptioningRNN\n",
    "from cs231n.coco_utils import load_coco_data, sample_coco_minibatch, decode_captions\n",
    "from cs231n.image_utils import image_from_url\n",
    "\n",
    "%matplotlib inline\n",
    "plt.rcParams['figure.figsize'] = (10.0, 8.0) # set default size of plots\n",
    "plt.rcParams['image.interpolation'] = 'nearest'\n",
    "plt.rcParams['image.cmap'] = 'gray'\n",
    "\n",
    "# for auto-reloading external modules\n",
    "# see http://stackoverflow.com/questions/1907993/autoreload-of-modules-in-ipython\n",
    "%load_ext autoreload\n",
    "%autoreload 2\n",
    "\n",
    "def rel_error(x, y):\n",
    "    \"\"\" returns relative error \"\"\"\n",
    "    return np.max(np.abs(x - y) / (np.maximum(1e-8, np.abs(x) + np.abs(y))))"
   ]
  },
  {
   "cell_type": "code",
   "execution_count": 10,
   "metadata": {},
   "outputs": [
    {
     "name": "stdout",
     "output_type": "stream",
     "text": [
      "[[[ -5.26808359e-01  -1.79070098e-01   4.09121321e-02   5.01304274e-05\n",
      "     2.45547795e-02   1.78968141e-03]\n",
      "  [  2.44339385e-02   1.50096683e-01   1.92132150e-01   7.39118696e-02\n",
      "     3.86500179e-01   1.99337867e-01]\n",
      "  [ -5.98330804e-01   6.00944080e-02   2.80552225e-01   1.27028709e-03\n",
      "     1.12690791e-01   7.83029566e-01]\n",
      "  [  3.78531084e-02   4.37886067e-02   4.18588532e-01   3.67929671e-01\n",
      "     2.69696868e-01   2.67407055e-01]\n",
      "  [  2.46230836e-02   5.73339438e-03   8.43148599e-02   6.44735548e-01\n",
      "    -2.97567677e-01   3.26497024e-01]\n",
      "  [ -1.81764128e-01   2.93656112e-03  -1.43356175e-01   4.92926596e-01\n",
      "    -5.30514056e-02   1.10006804e-01]\n",
      "  [ -5.09531464e-01  -5.36215181e-03  -1.97515932e-01   9.59138405e-02\n",
      "    -6.34063091e-02   3.10509868e-01]\n",
      "  [ -2.30905687e-02   2.26801933e-03  -2.22164229e-02   5.34910565e-01\n",
      "    -4.81465326e-02   1.31039161e-01]\n",
      "  [  6.50621939e-02   4.43988471e-02  -2.90225966e-01   3.69822094e-01\n",
      "     5.65457953e-03   7.52682654e-02]\n",
      "  [  6.50088375e-03   2.44154163e-02  -1.44802066e-01   3.82677979e-01\n",
      "    -5.88364686e-02   2.31583037e-01]]\n",
      "\n",
      " [[ -5.30333433e-01  -6.41781080e-02   1.09759050e-02   2.14156025e-02\n",
      "     5.58789819e-02   3.12246133e-02]\n",
      "  [ -9.46635378e-02   3.15587136e-02   1.37822584e-01   2.18270786e-01\n",
      "     1.21580363e-01   1.34079465e-01]\n",
      "  [  4.67989851e-01   1.19439136e-01   2.67915082e-01   4.54656458e-02\n",
      "     7.47816852e-01   4.96171228e-01]\n",
      "  [  2.73449621e-02   2.69097643e-01   6.52502660e-01   4.85819402e-01\n",
      "     6.15611728e-01   3.32169986e-01]\n",
      "  [  4.49592746e-01   5.04532286e-02   4.38455037e-01   3.95114104e-02\n",
      "     3.31882150e-01   7.12765590e-01]\n",
      "  [ -4.18034509e-02   1.08828050e-03   3.64223624e-02   2.95708064e-01\n",
      "    -9.66319289e-03   6.28113206e-01]\n",
      "  [  3.83858350e-01   1.61738498e-01   1.71824714e-01   8.51066930e-02\n",
      "     2.69274660e-01   5.20805266e-01]\n",
      "  [  1.10566529e-01   1.44366622e-01   3.32254267e-01   1.82786140e-01\n",
      "     8.15538577e-02   5.65681048e-01]\n",
      "  [  1.15267662e-01   4.71738910e-01   6.50646520e-01   2.68390371e-04\n",
      "     6.12888206e-03   8.40833090e-01]\n",
      "  [  5.17093273e-01   2.13427960e-01   8.71759079e-01   9.57699427e-03\n",
      "     2.94357889e-01   7.87219593e-01]]]\n",
      "dx error:  0.0604461003226\n",
      "dh0 error:  1.0\n",
      "dWx error:  0.407193286309\n",
      "dWh error:  1.0\n",
      "db error:  0.18865536254\n"
     ]
    }
   ],
   "source": [
    "from cs231n.temp import lstm_forward, lstm_backward\n",
    "np.random.seed(231)\n",
    "\n",
    "N, D, T, H = 2, 3, 10, 6\n",
    "\n",
    "x = np.random.randn(N, T, D)\n",
    "h0 = np.random.randn(N, H)\n",
    "Wx = np.random.randn(D, 4 * H)\n",
    "Wh = np.random.randn(H, 4 * H)\n",
    "b = np.random.randn(4 * H)\n",
    "\n",
    "out, cache = lstm_forward(x, h0, Wx, Wh, b)\n",
    "print(out)\n",
    "dout = np.random.randn(*out.shape)\n",
    "\n",
    "dx, dh0, dWx, dWh, db = lstm_backward(dout, cache)\n",
    "\n",
    "fx = lambda x: lstm_forward(x, h0, Wx, Wh, b)[0]\n",
    "fh0 = lambda h0: lstm_forward(x, h0, Wx, Wh, b)[0]\n",
    "fWx = lambda Wx: lstm_forward(x, h0, Wx, Wh, b)[0]\n",
    "fWh = lambda Wh: lstm_forward(x, h0, Wx, Wh, b)[0]\n",
    "fb = lambda b: lstm_forward(x, h0, Wx, Wh, b)[0]\n",
    "\n",
    "dx_num = eval_numerical_gradient_array(fx, x, dout)\n",
    "dh0_num = eval_numerical_gradient_array(fh0, h0, dout)\n",
    "dWx_num = eval_numerical_gradient_array(fWx, Wx, dout)\n",
    "dWh_num = eval_numerical_gradient_array(fWh, Wh, dout)\n",
    "db_num = eval_numerical_gradient_array(fb, b, dout)\n",
    "\n",
    "print('dx error: ', rel_error(dx_num, dx))\n",
    "print('dh0 error: ', rel_error(dh0_num, dh0))\n",
    "print('dWx error: ', rel_error(dWx_num, dWx))\n",
    "print('dWh error: ', rel_error(dWh_num, dWh))\n",
    "print('db error: ', rel_error(db_num, db))"
   ]
  }
 ],
 "metadata": {
  "kernelspec": {
   "display_name": "Python 3",
   "language": "python",
   "name": "python3"
  },
  "language_info": {
   "codemirror_mode": {
    "name": "ipython",
    "version": 3
   },
   "file_extension": ".py",
   "mimetype": "text/x-python",
   "name": "python",
   "nbconvert_exporter": "python",
   "pygments_lexer": "ipython3",
   "version": "3.6.8"
  }
 },
 "nbformat": 4,
 "nbformat_minor": 2
}
